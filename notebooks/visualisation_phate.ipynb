{
 "cells": [
  {
   "cell_type": "code",
   "execution_count": 1,
   "id": "4cc307e9",
   "metadata": {},
   "outputs": [],
   "source": [
    "import numpy as np"
   ]
  },
  {
   "cell_type": "code",
   "execution_count": 2,
   "id": "f0de8fe3",
   "metadata": {},
   "outputs": [],
   "source": [
    "data = np.load(\"../datasets/data/phate_from_trajectory/eb_velocity_v5.npz\")"
   ]
  },
  {
   "cell_type": "code",
   "execution_count": 3,
   "id": "5133fc0e",
   "metadata": {},
   "outputs": [
    {
     "name": "stdout",
     "output_type": "stream",
     "text": [
      "['pcs', 'phate', 'delta_embedding', 'color', 'ixs', 'sample_labels', 'pcs_delta']\n"
     ]
    }
   ],
   "source": [
    "print(data.files)"
   ]
  },
  {
   "cell_type": "code",
   "execution_count": 4,
   "id": "c69764d6",
   "metadata": {},
   "outputs": [
    {
     "data": {
      "text/plain": [
       "(16819, 100)"
      ]
     },
     "execution_count": 4,
     "metadata": {},
     "output_type": "execute_result"
    }
   ],
   "source": [
    "data['pcs'].shape"
   ]
  },
  {
   "cell_type": "code",
   "execution_count": 5,
   "id": "0999d1fb",
   "metadata": {},
   "outputs": [
    {
     "name": "stdout",
     "output_type": "stream",
     "text": [
      "pcs:\n",
      "(16819, 100)\n",
      "\n",
      "phate:\n",
      "(16819, 2)\n",
      "\n",
      "delta_embedding:\n",
      "(16819, 2)\n",
      "\n",
      "color:\n",
      "(16819, 4)\n",
      "\n",
      "ixs:\n",
      "(2436,)\n",
      "\n",
      "sample_labels:\n",
      "(16819,)\n",
      "\n",
      "pcs_delta:\n",
      "(16819, 100)\n",
      "\n"
     ]
    }
   ],
   "source": [
    "for name in data.files:\n",
    "    print(f\"{name}:\\n{data[name].shape}\\n\")\n"
   ]
  },
  {
   "cell_type": "code",
   "execution_count": 6,
   "id": "7310b852",
   "metadata": {},
   "outputs": [
    {
     "name": "stdout",
     "output_type": "stream",
     "text": [
      "sample_labels == 0: 2381 occurrences\n",
      "sample_labels == 1: 4163 occurrences\n",
      "sample_labels == 2: 3278 occurrences\n",
      "sample_labels == 3: 3665 occurrences\n",
      "sample_labels == 4: 3332 occurrences\n"
     ]
    }
   ],
   "source": [
    "unique_labels, label_counts = np.unique(data['sample_labels'], return_counts=True)\n",
    "for label, count in zip(unique_labels, label_counts):\n",
    "    print(f\"sample_labels == {label}: {count} occurrences\")"
   ]
  },
  {
   "cell_type": "code",
   "execution_count": 18,
   "id": "dea5b1f4",
   "metadata": {},
   "outputs": [
    {
     "data": {
      "text/plain": [
       "array([1.])"
      ]
     },
     "execution_count": 18,
     "metadata": {},
     "output_type": "execute_result"
    }
   ],
   "source": [
    "np.unique(data['color'][:,3])"
   ]
  },
  {
   "cell_type": "code",
   "execution_count": 7,
   "id": "53bcfd3f",
   "metadata": {},
   "outputs": [],
   "source": [
    "labels = np.unique(data['sample_labels'])\n",
    "pcs = data['pcs']\n",
    "\n",
    "for label in labels:\n",
    "    mask = data['sample_labels'] == label\n",
    "    pcs_label = pcs[mask]\n"
   ]
  },
  {
   "cell_type": "code",
   "execution_count": 9,
   "id": "23b5e566",
   "metadata": {},
   "outputs": [
    {
     "name": "stdout",
     "output_type": "stream",
     "text": [
      "Saved pcs_label_0_part0.npz with shape (2381, 100)\n",
      "Saved pcs_label_1_part0.npz with shape (2381, 100)\n",
      "Saved pcs_label_2_part0.npz with shape (2381, 100)\n",
      "Saved pcs_label_3_part0.npz with shape (2381, 100)\n",
      "Saved pcs_label_4_part0.npz with shape (2381, 100)\n"
     ]
    }
   ],
   "source": [
    "max_points = 2381\n",
    "\n",
    "for label in labels:\n",
    "    mask = data[\"sample_labels\"] == label\n",
    "    pcs_label = data[\"pcs\"][mask]\n",
    "    n = pcs_label.shape[0]\n",
    "    num_parts = int(np.ceil(n / max_points))\n",
    "    for part_idx in range(num_parts):\n",
    "        start = part_idx * max_points\n",
    "        end = min((part_idx + 1) * max_points, n)\n",
    "        pcs_part = pcs_label[start:end]\n",
    "        np.savez(\n",
    "            f\"../datasets/data/phate_from_trajectory/pcs_label_{label}.npz\",\n",
    "            pcs=pcs_part\n",
    "        )\n",
    "        print(f\"Saved pcs_label_{label}_part{part_idx}.npz with shape {pcs_part.shape}\")\n",
    "        break"
   ]
  },
  {
   "cell_type": "code",
   "execution_count": 8,
   "id": "b1e6f099",
   "metadata": {},
   "outputs": [
    {
     "name": "stdout",
     "output_type": "stream",
     "text": [
      "Label 0: 2381 occurrences\n",
      "Label 1: 4163 occurrences\n",
      "Label 2: 3278 occurrences\n",
      "Label 3: 3665 occurrences\n",
      "Label 4: 3332 occurrences\n"
     ]
    }
   ],
   "source": [
    "unique, counts = np.unique(data['sample_labels'], return_counts=True)\n",
    "for u, c in zip(unique, counts):\n",
    "    print(f\"Label {u}: {c} occurrences\")"
   ]
  },
  {
   "cell_type": "code",
   "execution_count": 9,
   "id": "a4db3034",
   "metadata": {},
   "outputs": [
    {
     "name": "stdout",
     "output_type": "stream",
     "text": [
      "Label 0: moyenne de la variance = 1.0990648156274396\n",
      "Label 1: moyenne de la variance = 1.6585613701494788\n",
      "Label 2: moyenne de la variance = 2.1609540340355484\n",
      "Label 3: moyenne de la variance = 2.296500269439102\n",
      "Label 4: moyenne de la variance = 2.438311652709521\n"
     ]
    }
   ],
   "source": [
    "for label in labels:\n",
    "    mask = data['sample_labels'] == label\n",
    "    pcs_label = data['pcs'][mask]\n",
    "    mean_var = pcs_label.var(axis=0).mean()\n",
    "    print(f\"Label {label}: moyenne de la variance = {mean_var}\")"
   ]
  },
  {
   "cell_type": "code",
   "execution_count": null,
   "id": "7469b93f",
   "metadata": {},
   "outputs": [
    {
     "data": {
      "text/plain": [
       "array([False, False, False, ...,  True,  True,  True])"
      ]
     },
     "execution_count": 10,
     "metadata": {},
     "output_type": "execute_result"
    }
   ],
   "source": []
  },
  {
   "cell_type": "code",
   "execution_count": 14,
   "id": "36033a8e",
   "metadata": {},
   "outputs": [
    {
     "data": {
      "text/plain": [
       "(3332, 100)"
      ]
     },
     "execution_count": 14,
     "metadata": {},
     "output_type": "execute_result"
    }
   ],
   "source": [
    "pcs_label.shape"
   ]
  },
  {
   "cell_type": "code",
   "execution_count": 15,
   "id": "05d6aae6",
   "metadata": {},
   "outputs": [
    {
     "name": "stdout",
     "output_type": "stream",
     "text": [
      "Variance par dimension: [ 4.94270315 14.9477124  16.419531   19.01505997 17.32152064  9.32672897\n",
      "  7.24633024  8.10152261  4.59857964  4.91223166  3.99693644  4.41762381\n",
      "  5.3421524   2.90322612  3.22124863  3.0118993   3.88482429  2.91645313\n",
      "  2.36945339  2.51130106  2.81989911  2.15644238  2.42801874  2.01170607\n",
      "  2.29491397  2.32558521  2.31851378  2.0004661   1.7782521   1.80130878\n",
      "  1.76150126  1.82643934  1.60224527  1.76641315  1.59942336  1.37881619\n",
      "  1.64809591  1.51564144  1.54402286  1.33226739  1.42589092  1.26906627\n",
      "  1.20043176  1.18349078  1.36955848  1.39637323  1.29501948  1.30514584\n",
      "  1.33444977  1.08502988  1.27314908  1.21840839  1.1660824   1.2473889\n",
      "  1.18289989  1.19727119  1.12752722  1.15200579  1.21572817  1.08629317\n",
      "  1.05116902  1.11051648  1.10034682  1.13137511  1.04596907  1.03517596\n",
      "  1.07784739  1.09267569  1.06768358  1.03062281  1.02634353  1.01236418\n",
      "  1.0055407   1.04319897  0.9717423   1.05174445  1.00755557  0.99990477\n",
      "  0.99411668  0.96403091  1.0397507   0.96816564  0.98964656  0.98580223\n",
      "  0.94795298  0.93419383  0.94753385  0.93944869  0.90873161  0.96040865\n",
      "  0.97757786  0.94172077  0.93852775  0.94331904  0.92062378  0.91821142\n",
      "  0.91321852  0.93761517  0.91758182  0.93298854]\n",
      "Moyenne de la variance: 2.438311652709521\n"
     ]
    }
   ],
   "source": [
    "# Calculer la variance pour chaque dimension (colonne) de pcs_label, puis afficher la moyenne des variances\n",
    "variance_par_dimension = pcs_label.var(axis=0)\n",
    "print(\"Variance par dimension:\", variance_par_dimension)\n",
    "print(\"Moyenne de la variance:\", variance_par_dimension.mean())"
   ]
  },
  {
   "cell_type": "code",
   "execution_count": 17,
   "id": "c39d14ac",
   "metadata": {},
   "outputs": [
    {
     "name": "stdout",
     "output_type": "stream",
     "text": [
      "Variance par dimension (pcs_label): [ 4.88027718e+01  5.88396905e+00  3.73949660e+00  2.12996718e-01\n",
      "  1.03651328e+00 -1.68206147e+00  6.14391102e-01  1.17511860e+00\n",
      " -6.92460510e-01 -6.85646167e-01  2.44485801e-01  3.02721306e-01\n",
      " -3.57567451e-01 -5.30569333e-02 -2.18824235e-01 -2.56835498e-01\n",
      "  3.45308845e-01 -1.55774805e-01  1.57029251e-01 -3.57196674e-01\n",
      "  2.38776954e-01 -2.41587217e-01  2.98992366e-01  5.96597937e-02\n",
      "  1.26210282e-01 -4.18937312e-02  4.37822295e-02  2.33623123e-01\n",
      "  8.95077854e-02 -3.20914290e-02 -2.32093548e-01 -1.13296332e-01\n",
      "  7.97524850e-02  2.10392999e-01 -3.97532024e-01  5.22482685e-02\n",
      "  7.78688248e-02  2.03809418e-01 -1.96892021e-01 -8.72497283e-02\n",
      " -8.07810863e-02  1.20894501e-01  2.59552834e-02  2.43137859e-02\n",
      "  9.94572165e-02  4.05094156e-02 -7.06282069e-02  7.19485878e-02\n",
      " -2.43957585e-02  4.40003486e-02 -9.45847961e-03  6.06910400e-02\n",
      "  3.97546751e-02 -6.54957462e-02 -2.10480433e-02 -3.08541171e-02\n",
      " -5.19356382e-02  4.80695689e-02  1.06626238e-02 -3.62254434e-02\n",
      "  7.71217342e-02  5.09668687e-02  3.15213755e-02 -4.45691356e-02\n",
      " -1.61780939e-02  2.17063994e-02 -2.77751990e-02  2.59137175e-02\n",
      " -2.03397359e-02  3.92065075e-02 -9.09913526e-04 -4.29733171e-02\n",
      " -7.19945195e-02  2.09370881e-02 -2.80617614e-02  1.01170335e-02\n",
      "  1.00581096e-02 -9.39274420e-03 -1.45429494e-02  1.74789249e-02\n",
      "  2.51025336e-03  3.55466050e-02 -6.13207609e-03 -2.04720898e-02\n",
      " -2.59198068e-02 -7.81298644e-03 -2.72828621e-02 -7.31968745e-03\n",
      " -6.96991580e-03 -4.17850732e-03 -7.59718405e-03  1.59378231e-02\n",
      "  1.18446424e-02 -1.41121618e-02 -9.95234539e-03  2.71256862e-02\n",
      " -1.31052176e-02  7.35473856e-03 -1.38458792e-02 -5.25205073e-03]\n",
      "Moyenne de la variance (pcs_label): 0.5858145903267947\n"
     ]
    }
   ],
   "source": [
    "variance_par_dimension = pcs_label.mean(axis=0)\n",
    "print(\"Variance par dimension (pcs_label):\", variance_par_dimension)\n",
    "print(\"Moyenne de la variance (pcs_label):\", variance_par_dimension.mean())"
   ]
  },
  {
   "cell_type": "code",
   "execution_count": null,
   "id": "c9a6ef7e",
   "metadata": {},
   "outputs": [],
   "source": []
  }
 ],
 "metadata": {
  "kernelspec": {
   "display_name": ".venv",
   "language": "python",
   "name": "python3"
  },
  "language_info": {
   "codemirror_mode": {
    "name": "ipython",
    "version": 3
   },
   "file_extension": ".py",
   "mimetype": "text/x-python",
   "name": "python",
   "nbconvert_exporter": "python",
   "pygments_lexer": "ipython3",
   "version": "3.10.17"
  }
 },
 "nbformat": 4,
 "nbformat_minor": 5
}
